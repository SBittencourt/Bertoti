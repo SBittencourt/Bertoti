{
  "cells": [
    {
      "cell_type": "markdown",
      "metadata": {
        "id": "view-in-github",
        "colab_type": "text"
      },
      "source": [
        "<a href=\"https://colab.research.google.com/github/Katianefatec/bertoti/blob/main/chatBot.ipynb\" target=\"_parent\"><img src=\"https://colab.research.google.com/assets/colab-badge.svg\" alt=\"Open In Colab\"/></a>"
      ]
    },
    {
      "cell_type": "code",
      "execution_count": null,
      "id": "ebbf29fa",
      "metadata": {
        "colab": {
          "base_uri": "https://localhost:8080/"
        },
        "id": "ebbf29fa",
        "outputId": "4ec1c753-40ae-4a66-b5d0-d06b0a708084"
      },
      "outputs": [
        {
          "output_type": "stream",
          "name": "stdout",
          "text": [
            "Requirement already satisfied: pytelegrambotapi in /usr/local/lib/python3.10/dist-packages (4.19.0)\n",
            "Requirement already satisfied: requests in /usr/local/lib/python3.10/dist-packages (from pytelegrambotapi) (2.31.0)\n",
            "Requirement already satisfied: charset-normalizer<4,>=2 in /usr/local/lib/python3.10/dist-packages (from requests->pytelegrambotapi) (3.3.2)\n",
            "Requirement already satisfied: idna<4,>=2.5 in /usr/local/lib/python3.10/dist-packages (from requests->pytelegrambotapi) (3.7)\n",
            "Requirement already satisfied: urllib3<3,>=1.21.1 in /usr/local/lib/python3.10/dist-packages (from requests->pytelegrambotapi) (2.0.7)\n",
            "Requirement already satisfied: certifi>=2017.4.17 in /usr/local/lib/python3.10/dist-packages (from requests->pytelegrambotapi) (2024.6.2)\n",
            "Requirement already satisfied: transformers in /usr/local/lib/python3.10/dist-packages (4.41.2)\n",
            "Requirement already satisfied: filelock in /usr/local/lib/python3.10/dist-packages (from transformers) (3.14.0)\n",
            "Requirement already satisfied: huggingface-hub<1.0,>=0.23.0 in /usr/local/lib/python3.10/dist-packages (from transformers) (0.23.2)\n",
            "Requirement already satisfied: numpy>=1.17 in /usr/local/lib/python3.10/dist-packages (from transformers) (1.25.2)\n",
            "Requirement already satisfied: packaging>=20.0 in /usr/local/lib/python3.10/dist-packages (from transformers) (24.0)\n",
            "Requirement already satisfied: pyyaml>=5.1 in /usr/local/lib/python3.10/dist-packages (from transformers) (6.0.1)\n",
            "Requirement already satisfied: regex!=2019.12.17 in /usr/local/lib/python3.10/dist-packages (from transformers) (2024.5.15)\n",
            "Requirement already satisfied: requests in /usr/local/lib/python3.10/dist-packages (from transformers) (2.31.0)\n",
            "Requirement already satisfied: tokenizers<0.20,>=0.19 in /usr/local/lib/python3.10/dist-packages (from transformers) (0.19.1)\n",
            "Requirement already satisfied: safetensors>=0.4.1 in /usr/local/lib/python3.10/dist-packages (from transformers) (0.4.3)\n",
            "Requirement already satisfied: tqdm>=4.27 in /usr/local/lib/python3.10/dist-packages (from transformers) (4.66.4)\n",
            "Requirement already satisfied: fsspec>=2023.5.0 in /usr/local/lib/python3.10/dist-packages (from huggingface-hub<1.0,>=0.23.0->transformers) (2023.6.0)\n",
            "Requirement already satisfied: typing-extensions>=3.7.4.3 in /usr/local/lib/python3.10/dist-packages (from huggingface-hub<1.0,>=0.23.0->transformers) (4.12.1)\n",
            "Requirement already satisfied: charset-normalizer<4,>=2 in /usr/local/lib/python3.10/dist-packages (from requests->transformers) (3.3.2)\n",
            "Requirement already satisfied: idna<4,>=2.5 in /usr/local/lib/python3.10/dist-packages (from requests->transformers) (3.7)\n",
            "Requirement already satisfied: urllib3<3,>=1.21.1 in /usr/local/lib/python3.10/dist-packages (from requests->transformers) (2.0.7)\n",
            "Requirement already satisfied: certifi>=2017.4.17 in /usr/local/lib/python3.10/dist-packages (from requests->transformers) (2024.6.2)\n",
            "Requirement already satisfied: fuzzywuzzy in /usr/local/lib/python3.10/dist-packages (0.18.0)\n",
            "Requirement already satisfied: requests in /usr/local/lib/python3.10/dist-packages (2.31.0)\n",
            "Requirement already satisfied: charset-normalizer<4,>=2 in /usr/local/lib/python3.10/dist-packages (from requests) (3.3.2)\n",
            "Requirement already satisfied: idna<4,>=2.5 in /usr/local/lib/python3.10/dist-packages (from requests) (3.7)\n",
            "Requirement already satisfied: urllib3<3,>=1.21.1 in /usr/local/lib/python3.10/dist-packages (from requests) (2.0.7)\n",
            "Requirement already satisfied: certifi>=2017.4.17 in /usr/local/lib/python3.10/dist-packages (from requests) (2024.6.2)\n",
            "Requirement already satisfied: bs4 in /usr/local/lib/python3.10/dist-packages (0.0.2)\n",
            "Requirement already satisfied: beautifulsoup4 in /usr/local/lib/python3.10/dist-packages (from bs4) (4.12.3)\n",
            "Requirement already satisfied: soupsieve>1.2 in /usr/local/lib/python3.10/dist-packages (from beautifulsoup4->bs4) (2.5)\n"
          ]
        }
      ],
      "source": [
        "! pip install pytelegrambotapi\n",
        "! pip install transformers\n",
        "! pip install fuzzywuzzy\n",
        "! pip install requests\n",
        "! pip install bs4"
      ]
    },
    {
      "cell_type": "code",
      "execution_count": null,
      "id": "83b06869",
      "metadata": {
        "id": "83b06869"
      },
      "outputs": [],
      "source": [
        "import telebot\n",
        "import unicodedata\n",
        "import re\n",
        "import requests\n",
        "import time\n",
        "from bs4 import BeautifulSoup\n",
        "from transformers import pipeline"
      ]
    },
    {
      "cell_type": "code",
      "execution_count": null,
      "id": "10c0aa2d",
      "metadata": {
        "id": "10c0aa2d"
      },
      "outputs": [],
      "source": [
        "API_TOKEN = '6842209431:AAFQkn1D4_L7IxhawWTEpKZEyXo9JrfU6NY'\n",
        "bot = telebot.TeleBot(API_TOKEN)"
      ]
    },
    {
      "cell_type": "code",
      "execution_count": null,
      "id": "d87e378f",
      "metadata": {
        "id": "d87e378f"
      },
      "outputs": [],
      "source": [
        "conversation_state = {}\n",
        "user_data = {}"
      ]
    },
    {
      "cell_type": "code",
      "execution_count": null,
      "id": "4be8e57b",
      "metadata": {
        "lines_to_next_cell": 1,
        "id": "4be8e57b"
      },
      "outputs": [],
      "source": [
        "menu = {\n",
        "    \"Donut de Chocolate\": 5.0,\n",
        "    \"Donut de Morango\": 6.0,\n",
        "    \"Donut Glaceado\": 4.0,\n",
        "    \"Donut de Doce de Leite\": 4.50,\n",
        "    \"Donut de Limão\": 5.0,\n",
        "    \"Donut de Maracujá\": 7.0,\n",
        "    \"Donut de Framboesa\": 8.0\n",
        "}"
      ]
    },
    {
      "cell_type": "code",
      "execution_count": null,
      "id": "459a5845",
      "metadata": {
        "lines_to_next_cell": 1,
        "id": "459a5845"
      },
      "outputs": [],
      "source": [
        "def normalize_text(text):\n",
        "    return unicodedata.normalize('NFKD', text).encode('ASCII', 'ignore').decode('ASCII').lower()"
      ]
    },
    {
      "cell_type": "code",
      "execution_count": null,
      "id": "c411481b",
      "metadata": {
        "lines_to_next_cell": 1,
        "id": "c411481b"
      },
      "outputs": [],
      "source": [
        "@bot.message_handler(commands=['start'])\n",
        "def reply_hi(message):\n",
        "    chat_id = message.chat.id\n",
        "    conversation_state[chat_id] = 'aguardando_acao'\n",
        "    user_data[chat_id] = {'donuts': {}}  # Limpar dados para novo atendimento\n",
        "    welcome_message = \"Olá! Bem-vindo à Donuts & Cia! 😊\\n\"\n",
        "    bot.reply_to(message, welcome_message +\n",
        "                 \"Digite 'cardápio' para ver o cardápio e fazer um pedido, 'informações nutricionais' para ver informações sobre um donut ou '/start' para reiniciar o atendimento a qualquer momento.\")"
      ]
    },
    {
      "cell_type": "code",
      "execution_count": null,
      "id": "b8f18beb",
      "metadata": {
        "lines_to_next_cell": 1,
        "id": "b8f18beb"
      },
      "outputs": [],
      "source": [
        "@bot.message_handler(func=lambda message: True)\n",
        "def process_message(message):\n",
        "    chat_id = message.chat.id\n",
        "    user_message = normalize_text(message.text)\n",
        "    state = conversation_state.get(chat_id, 'aguardando_acao')  # Get the current state or default to 'aguardando_acao'\n",
        "\n",
        "    if user_message == '/start':\n",
        "        reply_hi(message)\n",
        "    elif user_message == 'localizacao':\n",
        "        request_location(message)\n",
        "    elif user_message == 'informacoes nutricionais':  # Check for nutritional info request at any time\n",
        "        handle_nutritional_info_request(message)\n",
        "    elif state == 'aguardando_acao':\n",
        "        if user_message == 'cardapio':\n",
        "            show_menu(message)\n",
        "        else:\n",
        "            bot.reply_to(message, \"Desculpe, não entendi. Digite 'cardápio' para ver o cardápio e fazer um pedido, 'informacoes nutricionais' para ver informações sobre um donut, ou '/start' para reiniciar o atendimento a qualquer momento.\")\n",
        "    elif state == 'escolhendo_donut':\n",
        "        choose_donut(message, user_message)\n",
        "    elif state == 'confirmando_donut':\n",
        "        confirm_donut(message, user_message)\n",
        "    elif state == 'definindo_quantidade':\n",
        "        set_quantity(message, user_message)\n",
        "    elif state == 'adicionando_mais_donuts':\n",
        "        add_more_donuts(message, user_message)\n",
        "    elif state == 'confirmando_pedido':\n",
        "        confirm_order(message, user_message)\n"
      ]
    },
    {
      "cell_type": "code",
      "execution_count": null,
      "id": "67fb453b",
      "metadata": {
        "lines_to_next_cell": 1,
        "id": "67fb453b"
      },
      "outputs": [],
      "source": [
        "def show_menu(message):\n",
        "    chat_id = message.chat.id\n",
        "    menu_text = \"\\n\".join([f\"- {donut} (R$ {preco:.2f})\" for donut, preco in menu.items()])\n",
        "    bot.reply_to(message, f\"Nosso cardápio de donuts:\\n{menu_text}\\nQual você gostaria de escolher? 😊\\n\\n(Para informações nutricionais, digite 'informacoes nutricionais')\")  # Added hint\n",
        "    conversation_state[chat_id] = 'escolhendo_donut'\n",
        "    if chat_id not in user_data or 'donuts' not in user_data[chat_id]:\n",
        "        user_data[chat_id] = {'donuts': []}"
      ]
    },
    {
      "cell_type": "code",
      "source": [
        "def get_nutritional_info(donut_name):\n",
        "    base_url = \"https://www.fatsecret.com.br/calorias-nutri%C3%A7%C3%A3o/\"\n",
        "    page_number = 1\n",
        "    scored_results = []\n",
        "\n",
        "    while True:\n",
        "        search_url = f\"{base_url}search?q=donuts&pg={page_number}\"\n",
        "        try:\n",
        "            response = requests.get(search_url)\n",
        "            response.raise_for_status()\n",
        "            soup = BeautifulSoup(response.content, 'html.parser')\n",
        "\n",
        "            # Encontra os resultados na página de busca\n",
        "            results = soup.find_all('div', class_='searchResult')\n",
        "\n",
        "            if not results: # Para quando acabar\n",
        "                break\n",
        "\n",
        "            for i, result in enumerate(results):\n",
        "                food_link = result.find('a', class_='prominent')\n",
        "                if food_link:\n",
        "                    title = food_link.text\n",
        "                    link = base_url + food_link['href']\n",
        "\n",
        "                    name_similarity = fuzz.token_set_ratio(donut_name, title)\n",
        "\n",
        "                    scored_results.append((i + 1, title, link, name_similarity))\n",
        "\n",
        "            page_number += 1  # Incrementa o número da página\n",
        "\n",
        "        except requests.exceptions.RequestException as e:\n",
        "            print(f\"Error fetching nutritional data: {e}\")\n",
        "            break  # Sai do loop em caso de erro\n",
        "\n",
        "    # Remove resultados duplicados (mesmo link)\n",
        "    scored_results = list({item[2]: item for item in scored_results}.values())\n",
        "\n",
        "    # Ordena os resultados por similaridade\n",
        "    scored_results.sort(key=lambda x: x[3], reverse=True)\n",
        "    return scored_results\n",
        "\n",
        "def process_user_choice(message, scored_results):\n",
        "    chat_id = message.chat.id\n",
        "    user_choice = message.text.lower()\n",
        "\n",
        "    if user_choice == 'nenhum':\n",
        "        bot.reply_to(message, \"Ok, não encontrei informações para esse donut.\")\n",
        "        return None\n",
        "\n",
        "    try:\n",
        "        choice_index = int(user_choice) - 1\n",
        "        if 0 <= choice_index < len(scored_results):\n",
        "            _, _, donut_url, _ = scored_results[choice_index]\n",
        "            response = requests.get(donut_url)  # Acessa a página do alimento\n",
        "            response.raise_for_status()\n",
        "            soup = BeautifulSoup(response.content, 'html.parser')\n",
        "\n",
        "            # Extrai informações nutricionais da página do alimento\n",
        "            nutrients_table = soup.find('table', class_='generic nutrition')\n",
        "            if nutrients_table:\n",
        "                nutritional_data = {}\n",
        "                for row in nutrients_table.find_all('tr'):\n",
        "                    cells = row.find_all('td')\n",
        "                    if len(cells) == 2:\n",
        "                        nutrient = cells[0].text.strip().replace(\":\", \"\")\n",
        "                        value = cells[1].text.strip()\n",
        "                        nutritional_data[nutrient] = value\n",
        "\n",
        "                formatted_info = \"\\n\".join([f\"{key}: {value}\" for key, value in nutritional_data.items()])\n",
        "                bot.reply_to(message, f\"Informações nutricionais para {donut_url}:\\n{formatted_info}\")\n",
        "            else:\n",
        "                bot.reply_to(message, f\"Desculpe, não consegui extrair as informações nutricionais para este donut.\")\n",
        "        else:\n",
        "            bot.reply_to(message, \"Opção inválida. Por favor, digite um número válido da lista ou 'nenhum'.\")\n",
        "\n",
        "    except ValueError:\n",
        "        bot.reply_to(message, \"Opção inválida. Por favor, digite um número válido da lista ou 'nenhum'.\")\n",
        "\n",
        "\n",
        "\n",
        "\n",
        "\n",
        "@bot.message_handler(func=lambda message: normalize_text(message.text) == \"informacoes nutricionais\")\n",
        "def handle_nutritional_info_request(message):\n",
        "    bot.reply_to(message, f\"Nossos donuts: {', '.join(menu.keys())}\\nPara qual donut você gostaria de ver as informações nutricionais?\")\n",
        "    bot.register_next_step_handler(message, get_and_send_nutritional_info)\n",
        "\n",
        "\n",
        "def get_and_send_nutritional_info(message, chat_id=None, donut_data=None): # Removeu bot\n",
        "    donut_name = normalize_text(message.text)\n",
        "    info = get_nutritional_info(donut_name)\n",
        "    if info:\n",
        "        formatted_info = \"\\n\".join([f\"{key}: {value}\" for key, value in info.items()])\n",
        "        bot.reply_to(message, f\"Informações nutricionais para {donut_name}:\\n{formatted_info}\")\n",
        "    else:\n",
        "        bot.reply_to(message, f\"Desculpe, não encontrei informações nutricionais para {donut_name}.\")"
      ],
      "metadata": {
        "id": "5ja-mNmDI8Aw"
      },
      "id": "5ja-mNmDI8Aw",
      "execution_count": null,
      "outputs": []
    },
    {
      "cell_type": "code",
      "execution_count": null,
      "id": "38e2344e",
      "metadata": {
        "lines_to_next_cell": 1,
        "id": "38e2344e"
      },
      "outputs": [],
      "source": [
        "def choose_donut(message, user_message):\n",
        "    chat_id = message.chat.id\n",
        "    classifier = pipeline(\"zero-shot-classification\", model=\"MoritzLaurer/mDeBERTa-v3-base-mnli-xnli\")\n",
        "    typed_order = \"Quero muito um donut de \" + user_message\n",
        "    results = classifier(typed_order, candidate_labels=list(menu.keys()), hypothesis_template=\"O sabor do donut é {}.\")\n",
        "    max_score_index = results[\"scores\"].index(max(results[\"scores\"]))\n",
        "    predicted_donut = results[\"labels\"][max_score_index]\n",
        "    bot.reply_to(message, f\"Você quis dizer {predicted_donut}? Por favor, confirme (sim/não).\")\n",
        "\n",
        "\n",
        "    user_data.setdefault(chat_id, {}).setdefault('donuts', {})\n",
        "    user_data[chat_id]['donut'] = predicted_donut\n",
        "\n",
        "    conversation_state[chat_id] = 'confirmando_donut'"
      ]
    },
    {
      "cell_type": "code",
      "execution_count": null,
      "id": "ac814bc0",
      "metadata": {
        "lines_to_next_cell": 1,
        "id": "ac814bc0"
      },
      "outputs": [],
      "source": [
        "def confirm_donut(message, user_message):\n",
        "    chat_id = message.chat.id\n",
        "    if user_message == 'sim':\n",
        "        donut_escolhido = user_data[chat_id]['donut']\n",
        "\n",
        "\n",
        "        if not isinstance(user_data[chat_id]['donuts'], dict):\n",
        "            user_data[chat_id]['donuts'] = {}\n",
        "\n",
        "        user_data[chat_id]['donuts'][donut_escolhido] = None\n",
        "        bot.reply_to(message, f\"Ok, {donut_escolhido} adicionado ao seu pedido. Quantos você gostaria?\")\n",
        "        conversation_state[chat_id] = 'definindo_quantidade'\n",
        "\n",
        "    elif user_message == 'nao':\n",
        "        bot.reply_to(message, \"Por favor, escolha um donut do nosso cardápio.\")\n",
        "        conversation_state[chat_id] = 'escolhendo_donut'\n",
        "    else:\n",
        "        bot.reply_to(message, \"Desculpe, não entendi. Por favor, responda com 'sim' ou 'não'.\")"
      ]
    },
    {
      "cell_type": "code",
      "execution_count": null,
      "id": "2fec1ff1",
      "metadata": {
        "lines_to_next_cell": 1,
        "id": "2fec1ff1"
      },
      "outputs": [],
      "source": [
        "def add_more_donuts(message, user_message):\n",
        "    chat_id = message.chat.id\n",
        "    if user_message is None:\n",
        "        bot.reply_to(message, \"Deseja adicionar donuts de outros sabores? (sim/não)\")\n",
        "        conversation_state[chat_id] = 'adicionando_mais_donuts'\n",
        "    elif user_message == 'sim':\n",
        "        show_menu(message)\n",
        "    elif user_message == 'nao':\n",
        "        show_order_confirmation(message)\n",
        "    else:\n",
        "        bot.reply_to(message, \"Desculpe, não entendi. Por favor, responda com 'sim' ou 'não'.\")"
      ]
    },
    {
      "cell_type": "code",
      "execution_count": null,
      "id": "aa91aac1",
      "metadata": {
        "lines_to_next_cell": 1,
        "id": "aa91aac1"
      },
      "outputs": [],
      "source": [
        "def set_quantity(message, user_message):\n",
        "    chat_id = message.chat.id\n",
        "    donuts = user_data[chat_id][\"donuts\"]\n",
        "\n",
        "\n",
        "    next_donut = next((donut for donut, quantity in donuts.items() if quantity is None), None)\n",
        "\n",
        "    if user_message is None:\n",
        "\n",
        "        if next_donut:\n",
        "            bot.reply_to(message, f\"Quantos {next_donut} você gostaria de pedir?\")\n",
        "        else:\n",
        "            bot.reply_to(message, \"Você ainda não escolheu nenhum donut. Digite 'cardapio' para ver as opções.\")\n",
        "            conversation_state[chat_id] = 'aguardando_acao'\n",
        "            return\n",
        "\n",
        "        conversation_state[chat_id] = 'definindo_quantidade'\n",
        "    else:\n",
        "        try:\n",
        "            quantidade = int(user_message)\n",
        "            if quantidade > 0:\n",
        "\n",
        "                user_data[chat_id][\"donuts\"][next_donut] = quantidade\n",
        "\n",
        "\n",
        "                next_donut = next((donut for donut, quantity in donuts.items() if quantity is None), None)\n",
        "\n",
        "                if next_donut:\n",
        "\n",
        "                    bot.reply_to(message, f\"Quantos {next_donut} você gostaria de pedir?\")\n",
        "                else:\n",
        "\n",
        "                    add_more_donuts(message, None)\n",
        "            else:\n",
        "                bot.reply_to(message, \"Por favor, informe uma quantidade válida (maior que zero).\")\n",
        "        except ValueError:\n",
        "            bot.reply_to(message, \"Por favor, informe um número para a quantidade.\")"
      ]
    },
    {
      "cell_type": "code",
      "execution_count": null,
      "id": "d97ab0b1",
      "metadata": {
        "id": "d97ab0b1"
      },
      "outputs": [],
      "source": [
        "def show_order_confirmation(message):\n",
        "    chat_id = message.chat.id\n",
        "    donuts_pedido = user_data[chat_id][\"donuts\"]\n",
        "\n",
        "    preco_total = sum(menu[d] * q for d, q in donuts_pedido.items())\n",
        "\n",
        "\n",
        "    pedido_resumo = \"\\n\".join(\n",
        "         [f\"- {q} {d} (R$ {menu[d]:.2f})\" for d, q in donuts_pedido.items()]\n",
        "    )\n",
        "    bot.reply_to(\n",
        "        message,\n",
        "        f\"Perfeito! Seu pedido:\\n{pedido_resumo}\\nPreço total: R$ {preco_total:.2f}\\nConfirma? (sim/não)\",\n",
        "    )\n",
        "    conversation_state[chat_id] = \"confirmando_pedido\""
      ]
    },
    {
      "cell_type": "code",
      "execution_count": null,
      "id": "7920c069",
      "metadata": {
        "lines_to_next_cell": 1,
        "id": "7920c069"
      },
      "outputs": [],
      "source": [
        "def confirm_order(message, user_message):\n",
        "    chat_id = message.chat.id\n",
        "    if user_message == 'sim':\n",
        "        bot.reply_to(message, \"Pedido anotado! Agora, só precisamos do seu endereço.\")\n",
        "        request_location(message)\n",
        "        conversation_state[chat_id] = 'aguardando_localizacao'\n",
        "    else:\n",
        "        bot.reply_to(message, \"Pedido cancelado. Para iniciar um novo atendimento, digite '/start'.\")\n",
        "        conversation_state[chat_id] = 'aguardando_acao'\n",
        "        user_data[chat_id] = {}"
      ]
    },
    {
      "cell_type": "code",
      "execution_count": null,
      "id": "7970f361",
      "metadata": {
        "id": "7970f361"
      },
      "outputs": [],
      "source": [
        "from getpass import getpass"
      ]
    },
    {
      "cell_type": "code",
      "execution_count": null,
      "id": "a9029938",
      "metadata": {
        "lines_to_next_cell": 1,
        "colab": {
          "base_uri": "https://localhost:8080/"
        },
        "id": "a9029938",
        "outputId": "b94a20f5-57d9-482f-c7c9-49a9652d73d6"
      },
      "outputs": [
        {
          "name": "stdout",
          "output_type": "stream",
          "text": [
            "Enter your API key··········\n"
          ]
        }
      ],
      "source": [
        "api_key = getpass('Enter your API key')"
      ]
    },
    {
      "cell_type": "code",
      "execution_count": null,
      "id": "5e6f4589",
      "metadata": {
        "lines_to_next_cell": 1,
        "id": "5e6f4589"
      },
      "outputs": [],
      "source": [
        "def request_location(message):\n",
        "    chat_id = message.chat.id\n",
        "    bot.send_message(\n",
        "        chat_id,\n",
        "        \"Por favor, compartilhe sua localização para receber o pedido.\",\n",
        "        reply_markup=telebot.types.ReplyKeyboardMarkup(\n",
        "            resize_keyboard=True, one_time_keyboard=True\n",
        "        ).add(\n",
        "            telebot.types.KeyboardButton(\n",
        "                text=\"Compartilhar localização\", request_location=True\n",
        "            )\n",
        "        )\n",
        "    )\n",
        "    conversation_state[chat_id] = 'aguardando_localizacao'"
      ]
    },
    {
      "cell_type": "code",
      "execution_count": null,
      "id": "8b86f80e",
      "metadata": {
        "lines_to_next_cell": 1,
        "id": "8b86f80e"
      },
      "outputs": [],
      "source": [
        "def get_address_from_coordinates(latitude, longitude, api_key):\n",
        "    url = f\"https://maps.googleapis.com/maps/api/geocode/json?latlng={latitude},{longitude}&key={api_key}\"\n",
        "    try:\n",
        "        response = requests.get(url)\n",
        "        response.raise_for_status()  # Raise exception for bad HTTP responses\n",
        "        data = response.json()\n",
        "        if data['status'] == 'OK':\n",
        "            address = data['results'][0]['formatted_address']\n",
        "            address = address.replace(\", Brazil\", \", Brasil\")  # Remove \", Brazil\" from the end of the address\n",
        "            return address\n",
        "        else:\n",
        "            return \"Endereço não encontrado\"\n",
        "    except requests.exceptions.RequestException as e:\n",
        "        print(f\"Error making request: {e}\")\n",
        "        return \"Endereço não encontrado devido a um erro na API\"\n",
        "    except requests.exceptions.JSONDecodeError as e:\n",
        "        print(f\"Error decoding JSON: {e}\")\n",
        "        return \"Endereço não encontrado devido a um erro na resposta da API\""
      ]
    },
    {
      "cell_type": "code",
      "execution_count": null,
      "id": "ca12eaec",
      "metadata": {
        "lines_to_next_cell": 1,
        "id": "ca12eaec"
      },
      "outputs": [],
      "source": [
        "def confirm_address(chat_id, endereco, message):\n",
        "    bot.send_message(chat_id, f\"{endereco}\")\n",
        "    if not user_data[chat_id].get('endereco_corrigido', False):\n",
        "        bot.send_message(chat_id, \"Se o endereço estiver correto, responda com 'sim'.\\n\\nSe for necessário corrigir ou complementar o endereço, copie-o, edite-o e o envie de volta:\")\n",
        "    else:\n",
        "        bot.send_message(chat_id, \"Confirma o endereço de entrega? (sim/não)\")\n",
        "    conversation_state[chat_id] = 'confirmando_endereco'\n",
        "    bot.register_next_step_handler(message, handle_confirmacao_endereco_message)"
      ]
    },
    {
      "cell_type": "code",
      "execution_count": null,
      "id": "08074e23",
      "metadata": {
        "lines_to_next_cell": 1,
        "id": "08074e23"
      },
      "outputs": [],
      "source": [
        "@bot.message_handler(\n",
        "    content_types=['location'],\n",
        "    func=lambda message: conversation_state.get(message.chat.id) == 'aguardando_localizacao'\n",
        ")\n",
        "def handle_location_and_confirm(message):\n",
        "    chat_id = message.chat.id\n",
        "    latitude = message.location.latitude\n",
        "    longitude = message.location.longitude\n",
        "    endereco = get_address_from_coordinates(latitude, longitude, api_key)\n",
        "    user_data[chat_id][\"endereco\"] = endereco\n",
        "\n",
        "    bot.reply_to(message, f\"Localização recebida! Endereço encontrado:\")\n",
        "    confirm_address(chat_id, endereco, message)"
      ]
    },
    {
      "cell_type": "code",
      "execution_count": null,
      "id": "a9439ea0",
      "metadata": {
        "lines_to_next_cell": 1,
        "id": "a9439ea0"
      },
      "outputs": [],
      "source": [
        "@bot.message_handler(func=lambda message: conversation_state.get(message.chat.id) == 'confirmando_endereco')\n",
        "def handle_confirmacao_endereco_message(message):\n",
        "    chat_id = message.chat.id\n",
        "    user_message = normalize_text(message.text)\n",
        "\n",
        "    if user_message == 'sim':\n",
        "        endereco = user_data[chat_id][\"endereco\"]\n",
        "        donuts_pedido = user_data[chat_id][\"donuts\"]\n",
        "        preco_total = sum(menu[d] * q for d, q in donuts_pedido.items())\n",
        "        pedido_resumo = \"\\n\".join(\n",
        "             [f\"- {q} {d} (R$ {menu[d]:.2f})\" for d, q in donuts_pedido.items()]\n",
        "        )\n",
        "        bot.reply_to(message, f\"Pedido confirmado!\\n\\nSeu pedido:\\n{pedido_resumo}\\n\\nValor total: R$ {preco_total:.2f}\\n\\nEndereço de entrega:\\n{endereco}\\n\\nEm breve você receberá seus donuts quentinhos 😋!\")\n",
        "        conversation_state[chat_id] = 'aguardando_acao'\n",
        "        user_data[chat_id] = {}  # Reset user data for the next order\n",
        "    elif user_message == '/start':\n",
        "        reply_hi(message)\n",
        "    else:\n",
        "        endereco_correto = message.text\n",
        "        user_data[chat_id][\"endereco\"] = endereco_correto\n",
        "        user_data[chat_id][\"endereco_corrigido\"] = True\n",
        "        confirm_address(chat_id, endereco_correto, message)"
      ]
    },
    {
      "cell_type": "code",
      "execution_count": null,
      "id": "e5ca42bd",
      "metadata": {
        "id": "e5ca42bd"
      },
      "outputs": [],
      "source": [
        "bot.polling()"
      ]
    }
  ],
  "metadata": {
    "jupytext": {
      "cell_metadata_filter": "-all",
      "encoding": "# -*- coding: utf-8 -*-",
      "main_language": "python",
      "notebook_metadata_filter": "-all"
    },
    "colab": {
      "provenance": [],
      "include_colab_link": true
    },
    "language_info": {
      "name": "python"
    },
    "kernelspec": {
      "name": "python3",
      "display_name": "Python 3"
    }
  },
  "nbformat": 4,
  "nbformat_minor": 5
}